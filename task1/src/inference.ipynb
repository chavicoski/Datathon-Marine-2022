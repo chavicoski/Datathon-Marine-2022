{
 "cells": [
  {
   "cell_type": "markdown",
   "metadata": {},
   "source": [
    "## Inference\n",
    "\n",
    "Notebook to experiment with the inference process"
   ]
  },
  {
   "cell_type": "code",
   "execution_count": null,
   "metadata": {},
   "outputs": [],
   "source": [
    "import os\n",
    "import json\n",
    "\n",
    "import wandb\n",
    "import torch\n",
    "import pandas as pd\n",
    "import torchaudio\n",
    "from matplotlib import pyplot as plt\n",
    "\n",
    "from lib.lightning_modules import ClassifierModule\n",
    "from lib.models.sed import RecurrentCNNModel"
   ]
  },
  {
   "cell_type": "markdown",
   "metadata": {},
   "source": [
    "## Config"
   ]
  },
  {
   "cell_type": "code",
   "execution_count": null,
   "metadata": {},
   "outputs": [],
   "source": [
    "annotations_path = \"../dataset/preprocessed_data/frame-2048_hop-1024_chunk-128_spec-mel_mels-128_silence-label/labels.tsv\"\n",
    "label2idx_path = \"../dataset/preprocessed_data/frame-2048_hop-1024_chunk-128_spec-mel_mels-128_silence-label/label2idx.json\"\n",
    "audio_dir = \"../dataset/preprocessed_data/frame-2048_hop-1024_chunk-128_spec-mel_mels-128_silence-label/audio_tensors\"\n",
    "ckpt_path = \"chavicoski/DatathonMarine2022/model-uzdwerxt:v0\""
   ]
  },
  {
   "cell_type": "markdown",
   "metadata": {},
   "source": [
    "## Load data"
   ]
  },
  {
   "cell_type": "code",
   "execution_count": null,
   "metadata": {},
   "outputs": [],
   "source": [
    "annotations = pd.read_csv(annotations_path, sep=\"\\t\")\n",
    "annotations.head()"
   ]
  },
  {
   "cell_type": "code",
   "execution_count": null,
   "metadata": {},
   "outputs": [],
   "source": [
    "with open(label2idx_path, \"r\") as file_handle:\n",
    "    label2idx = json.load(file_handle)\n",
    "\n",
    "labels = list(label2idx)\n",
    "print(label2idx) \n",
    "print(labels)"
   ]
  },
  {
   "cell_type": "markdown",
   "metadata": {},
   "source": [
    "Load one sample (features and mask)"
   ]
  },
  {
   "cell_type": "code",
   "execution_count": null,
   "metadata": {},
   "outputs": [],
   "source": [
    "mask = annotations.whistle == 1\n",
    "#mask &= annotations.click == 1\n",
    "#mask &= annotations.cetaceans_allfreq == 1\n",
    "selected_annot = annotations[mask]\n",
    "sample_annot = selected_annot.sample(1)"
   ]
  },
  {
   "cell_type": "code",
   "execution_count": null,
   "metadata": {},
   "outputs": [],
   "source": [
    "sample_annot.feature_path.values[0]"
   ]
  },
  {
   "cell_type": "code",
   "execution_count": null,
   "metadata": {},
   "outputs": [],
   "source": [
    "feature_data = torch.load(os.path.join(audio_dir, sample_annot.feature_path.values[0]))\n",
    "mask_data = torch.load(os.path.join(audio_dir, sample_annot.mask_path.values[0]))\n",
    "print(f\"{feature_data.shape=}\")\n",
    "print(f\"{mask_data.shape=}\")"
   ]
  },
  {
   "cell_type": "markdown",
   "metadata": {},
   "source": [
    "## Load the model ckpt using wandb"
   ]
  },
  {
   "cell_type": "code",
   "execution_count": null,
   "metadata": {},
   "outputs": [],
   "source": [
    "run = wandb.init()"
   ]
  },
  {
   "cell_type": "code",
   "execution_count": null,
   "metadata": {},
   "outputs": [],
   "source": [
    "artifact = run.use_artifact(ckpt_path, type=\"model\")\n",
    "artifact_dir = artifact.download()"
   ]
  },
  {
   "cell_type": "code",
   "execution_count": null,
   "metadata": {},
   "outputs": [],
   "source": [
    "model = RecurrentCNNModel(\n",
    "    n_conv_blocks=3, \n",
    "    n_classes=len(labels), \n",
    "    filters_factor=1, \n",
    "    input_height=128, \n",
    "    start_n_filters=128, \n",
    "    drop_factor=0.2,\n",
    "    lstm_h_size=64,\n",
    "    pool_factor=4\n",
    ")\n",
    "module = ClassifierModule.load_from_checkpoint(os.path.join(artifact_dir, \"model.ckpt\"), model=model, labels=labels)\n",
    "module.eval()"
   ]
  },
  {
   "cell_type": "markdown",
   "metadata": {},
   "source": [
    "## Predict with one sample"
   ]
  },
  {
   "cell_type": "code",
   "execution_count": null,
   "metadata": {},
   "outputs": [],
   "source": [
    "sample_batch = torch.unsqueeze(torch.from_numpy(feature_data), 0)\n",
    "pred = module.predict_step(sample_batch, 0).detach().numpy()"
   ]
  },
  {
   "cell_type": "code",
   "execution_count": null,
   "metadata": {},
   "outputs": [],
   "source": [
    "def plot_spectrogram(specgram, title=None, ylabel=\"freq_bin\", interpolation=\"antialiased\", to_db=False):\n",
    "    plt.figure(figsize=(30, 10))\n",
    "    plt.title(title or \"Spectrogram (db)\")\n",
    "    plt.ylabel(ylabel)\n",
    "    plt.xlabel(\"frame\")\n",
    "    if to_db:\n",
    "        amplitude_to_db = torchaudio.transforms.AmplitudeToDB()\n",
    "        specgram = amplitude_to_db(specgram)\n",
    "    plt.imshow(specgram, origin=\"lower\", aspect=\"auto\", interpolation=interpolation)\n",
    "    plt.colorbar()\n",
    "    plt.show()\n",
    "\n",
    "def plot_mask(mask, labels):\n",
    "    plt.figure(figsize=(30, 10))\n",
    "    plt.imshow(mask, aspect=\"auto\", interpolation=\"none\", cmap=\"jet\")\n",
    "    plt.yticks(range(len(labels)), labels=labels)\n",
    "    plt.xlabel(\"Frame\")\n",
    "    plt.colorbar()\n",
    "    plt.show()"
   ]
  },
  {
   "cell_type": "markdown",
   "metadata": {},
   "source": [
    "Convert the matrix with logits into a mask by taking the argmax class for each frame"
   ]
  },
  {
   "cell_type": "code",
   "execution_count": null,
   "metadata": {},
   "outputs": [],
   "source": [
    "def pred2mask(pred_tensor: torch.Tensor) -> torch.Tensor:\n",
    "    \"\"\"Takes the prediction for one sample with shape (labels, frames)\n",
    "    and outputs the corresponding binary mask\"\"\"\n",
    "    pred_mask = torch.zeros(pred_tensor.shape)\n",
    "    for f in range(pred_tensor.shape[1]):\n",
    "        f_label = pred_tensor[:, f].argmax()\n",
    "        pred_mask[f_label, f] = 1\n",
    "    return pred_mask"
   ]
  },
  {
   "cell_type": "code",
   "execution_count": null,
   "metadata": {},
   "outputs": [],
   "source": [
    "plot_spectrogram(torch.from_numpy(feature_data)[0])\n",
    "plot_mask(torch.from_numpy(mask_data), labels)\n",
    "plot_mask(pred2mask(pred[0]), labels)"
   ]
  },
  {
   "cell_type": "markdown",
   "metadata": {},
   "source": [
    "## Predict one audio"
   ]
  },
  {
   "cell_type": "code",
   "execution_count": null,
   "metadata": {},
   "outputs": [],
   "source": [
    "audio_id = sample_annot.feature_path.values[0].split(\"_\")[0]\n",
    "audio_chunks_annot = annotations[annotations.feature_path.str.startswith(audio_id)]\n",
    "chunks_pred_masks = []\n",
    "for _, chunk_annot in audio_chunks_annot.iterrows():\n",
    "    feature_data = torch.load(os.path.join(audio_dir, chunk_annot.feature_path))\n",
    "    sample_batch = torch.unsqueeze(torch.from_numpy(feature_data), 0)\n",
    "    logits = module.predict_step(sample_batch, 0).detach().numpy()\n",
    "    chunks_pred_masks.append(pred2mask(logits[0]))\n",
    "\n",
    "print(len(chunks_pred_masks))\n",
    "print(chunks_pred_masks[0].shape)"
   ]
  },
  {
   "cell_type": "code",
   "execution_count": null,
   "metadata": {},
   "outputs": [],
   "source": [
    "plot_mask(torch.cat(chunks_pred_masks, axis=1), labels)"
   ]
  }
 ],
 "metadata": {
  "kernelspec": {
   "display_name": "Python 3.9.13 ('audio')",
   "language": "python",
   "name": "python3"
  },
  "language_info": {
   "codemirror_mode": {
    "name": "ipython",
    "version": 3
   },
   "file_extension": ".py",
   "mimetype": "text/x-python",
   "name": "python",
   "nbconvert_exporter": "python",
   "pygments_lexer": "ipython3",
   "version": "3.9.13"
  },
  "orig_nbformat": 4,
  "vscode": {
   "interpreter": {
    "hash": "d2252593e89e7d3aa9f5262b6f0663e084f31daf75977bd0753d2b19f4a4ff6b"
   }
  }
 },
 "nbformat": 4,
 "nbformat_minor": 2
}

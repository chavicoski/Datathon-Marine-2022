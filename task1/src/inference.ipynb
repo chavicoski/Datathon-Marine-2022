{
 "cells": [
  {
   "cell_type": "markdown",
   "metadata": {},
   "source": [
    "## Inference\n",
    "\n",
    "Notebook to experiment with the inference process"
   ]
  },
  {
   "cell_type": "code",
   "execution_count": null,
   "metadata": {},
   "outputs": [],
   "source": [
    "import os\n",
    "import json\n",
    "\n",
    "import wandb\n",
    "import torch\n",
    "import pandas as pd\n",
    "import torchaudio\n",
    "import sed_eval\n",
    "from matplotlib import pyplot as plt\n",
    "\n",
    "from lib.lightning_modules import ClassifierModule\n",
    "from lib.models.sed import RecurrentCNNModel"
   ]
  },
  {
   "cell_type": "markdown",
   "metadata": {},
   "source": [
    "## Config"
   ]
  },
  {
   "cell_type": "code",
   "execution_count": null,
   "metadata": {},
   "outputs": [],
   "source": [
    "annotations_path = \"../dataset/preprocessed_data/frame-2048_hop-1024_chunk-512_spec-mel_mels-128/labels.tsv\"\n",
    "label2idx_path = \"../dataset/preprocessed_data/frame-2048_hop-1024_chunk-512_spec-mel_mels-128/label2idx.json\"\n",
    "audio_dir = \"../dataset/preprocessed_data/frame-2048_hop-1024_chunk-512_spec-mel_mels-128/audio_tensors\"\n",
    "ckpt_path = \"chavicoski/DatathonMarine2022/model-3jcsvq90:v0\""
   ]
  },
  {
   "cell_type": "markdown",
   "metadata": {},
   "source": [
    "## Load data"
   ]
  },
  {
   "cell_type": "code",
   "execution_count": null,
   "metadata": {},
   "outputs": [],
   "source": [
    "annotations = pd.read_csv(annotations_path, sep=\"\\t\")\n",
    "annotations.head()"
   ]
  },
  {
   "cell_type": "code",
   "execution_count": null,
   "metadata": {},
   "outputs": [],
   "source": [
    "with open(label2idx_path, \"r\") as file_handle:\n",
    "    label2idx = json.load(file_handle)\n",
    "\n",
    "labels = list(label2idx)\n",
    "print(label2idx) \n",
    "print(labels)"
   ]
  },
  {
   "cell_type": "markdown",
   "metadata": {},
   "source": [
    "Load one sample (features and mask)"
   ]
  },
  {
   "cell_type": "code",
   "execution_count": null,
   "metadata": {},
   "outputs": [],
   "source": [
    "mask = annotations.whistle == 1\n",
    "#mask &= annotations.click == 1\n",
    "#mask &= annotations.cetaceans_allfreq == 1\n",
    "selected_annot = annotations[mask]\n",
    "sample_annot = selected_annot.sample(1)"
   ]
  },
  {
   "cell_type": "code",
   "execution_count": null,
   "metadata": {},
   "outputs": [],
   "source": [
    "sample_annot.feature_path.values[0]"
   ]
  },
  {
   "cell_type": "code",
   "execution_count": null,
   "metadata": {},
   "outputs": [],
   "source": [
    "feature_data = torch.load(os.path.join(audio_dir, sample_annot.feature_path.values[0]))\n",
    "mask_data = torch.load(os.path.join(audio_dir, sample_annot.mask_path.values[0]))\n",
    "print(f\"{feature_data.shape=}\")\n",
    "print(f\"{mask_data.shape=}\")"
   ]
  },
  {
   "cell_type": "markdown",
   "metadata": {},
   "source": [
    "## Load the model ckpt using wandb"
   ]
  },
  {
   "cell_type": "code",
   "execution_count": null,
   "metadata": {},
   "outputs": [],
   "source": [
    "run = wandb.init()"
   ]
  },
  {
   "cell_type": "code",
   "execution_count": null,
   "metadata": {},
   "outputs": [],
   "source": [
    "artifact = run.use_artifact(ckpt_path, type=\"model\")\n",
    "artifact_dir = artifact.download()"
   ]
  },
  {
   "cell_type": "code",
   "execution_count": null,
   "metadata": {},
   "outputs": [],
   "source": [
    "model = RecurrentCNNModel(n_conv_blocks=5, n_classes=len(labels), filters_factor=1, input_height=128, start_n_filters=128)\n",
    "module = ClassifierModule.load_from_checkpoint(os.path.join(artifact_dir, \"model.ckpt\"), model=model, labels=labels)\n",
    "module.eval()"
   ]
  },
  {
   "cell_type": "markdown",
   "metadata": {},
   "source": [
    "## Predict with one sample"
   ]
  },
  {
   "cell_type": "code",
   "execution_count": null,
   "metadata": {},
   "outputs": [],
   "source": [
    "sample_batch = torch.unsqueeze(torch.from_numpy(feature_data), 0)\n",
    "pred = module.predict_step(sample_batch, 0).detach().numpy()"
   ]
  },
  {
   "cell_type": "code",
   "execution_count": null,
   "metadata": {},
   "outputs": [],
   "source": [
    "def plot_spectrogram(specgram, title=None, ylabel=\"freq_bin\", interpolation=\"antialiased\"):\n",
    "    plt.figure(figsize=(30, 10))\n",
    "    plt.title(title or \"Spectrogram (db)\")\n",
    "    plt.ylabel(ylabel)\n",
    "    plt.xlabel(\"frame\")\n",
    "    amplitude_2_DB = torchaudio.transforms.AmplitudeToDB()\n",
    "    plt.imshow(amplitude_2_DB(specgram), origin=\"lower\", aspect=\"auto\", interpolation=interpolation)\n",
    "    plt.colorbar()\n",
    "    plt.show()\n",
    "\n",
    "def plot_mask(mask, labels):\n",
    "    plt.figure(figsize=(30, 10))\n",
    "    plt.imshow(mask, aspect=\"auto\", interpolation=\"none\", cmap=\"jet\")\n",
    "    plt.yticks(range(len(labels)), labels=labels)\n",
    "    plt.xlabel(\"Frame\")\n",
    "    plt.colorbar()\n",
    "    plt.show()"
   ]
  },
  {
   "cell_type": "code",
   "execution_count": null,
   "metadata": {},
   "outputs": [],
   "source": [
    "plot_spectrogram(torch.from_numpy(feature_data)[0])\n",
    "plot_mask(torch.from_numpy(mask_data), labels)\n",
    "plot_mask(pred[0], labels)"
   ]
  },
  {
   "cell_type": "markdown",
   "metadata": {},
   "source": [
    "## Test the sed_eval library"
   ]
  },
  {
   "cell_type": "code",
   "execution_count": null,
   "metadata": {},
   "outputs": [],
   "source": [
    "#sample_annot[\"path\"]"
   ]
  }
 ],
 "metadata": {
  "kernelspec": {
   "display_name": "Python 3.9.13 ('audio')",
   "language": "python",
   "name": "python3"
  },
  "language_info": {
   "codemirror_mode": {
    "name": "ipython",
    "version": 3
   },
   "file_extension": ".py",
   "mimetype": "text/x-python",
   "name": "python",
   "nbconvert_exporter": "python",
   "pygments_lexer": "ipython3",
   "version": "3.9.13"
  },
  "orig_nbformat": 4,
  "vscode": {
   "interpreter": {
    "hash": "d2252593e89e7d3aa9f5262b6f0663e084f31daf75977bd0753d2b19f4a4ff6b"
   }
  }
 },
 "nbformat": 4,
 "nbformat_minor": 2
}

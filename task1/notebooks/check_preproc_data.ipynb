{
 "cells": [
  {
   "cell_type": "markdown",
   "metadata": {},
   "source": [
    "# Explore the preprocessed data"
   ]
  },
  {
   "cell_type": "code",
   "execution_count": null,
   "metadata": {},
   "outputs": [],
   "source": [
    "import os\n",
    "\n",
    "import pandas as pd\n",
    "import torch\n",
    "import torchaudio\n",
    "from matplotlib import pyplot as plt"
   ]
  },
  {
   "cell_type": "markdown",
   "metadata": {},
   "source": [
    "## Config"
   ]
  },
  {
   "cell_type": "code",
   "execution_count": null,
   "metadata": {},
   "outputs": [],
   "source": [
    "annotations_path = \"../dataset/preprocessed_data/frame-0.04_hop-0.02/labels.tsv\"\n",
    "audio_dir = \"../dataset/preprocessed_data/frame-0.04_hop-0.02/audio_tensors\"\n",
    "labels = [\"click\", \"whistle\", \"cetaceans_allfreq\", \"allfreq\", \"volcano\"]"
   ]
  },
  {
   "cell_type": "code",
   "execution_count": null,
   "metadata": {},
   "outputs": [],
   "source": [
    "annotations = pd.read_csv(annotations_path, sep=\"\\t\")\n",
    "annotations.head()"
   ]
  },
  {
   "cell_type": "markdown",
   "metadata": {},
   "source": [
    "## Check labels distributions"
   ]
  },
  {
   "cell_type": "code",
   "execution_count": null,
   "metadata": {},
   "outputs": [],
   "source": [
    "display(annotations[labels].sum())\n",
    "total_annot = len(annotations)\n",
    "total_labels = annotations[labels].sum().sum()\n",
    "print(f\"{total_labels=}\")\n",
    "print(f\"{total_annot=}\")\n",
    "print(f\"{(total_labels/total_annot)=}\")"
   ]
  },
  {
   "cell_type": "markdown",
   "metadata": {},
   "source": [
    "## Check extracted spectrograms"
   ]
  },
  {
   "cell_type": "code",
   "execution_count": null,
   "metadata": {},
   "outputs": [],
   "source": [
    "def plot_spectrogram(specgram, title=None, ylabel=\"freq_bin\", interpolation=\"antialiased\"):\n",
    "    plt.figure(figsize=(30, 10))\n",
    "    plt.title(title or \"Spectrogram (db)\")\n",
    "    plt.ylabel(ylabel)\n",
    "    plt.xlabel(\"frame\")\n",
    "    amplitude_2_DB = torchaudio.transforms.AmplitudeToDB()\n",
    "    plt.imshow(amplitude_2_DB(specgram), origin=\"lower\", aspect=\"auto\", interpolation=interpolation)\n",
    "    plt.colorbar()\n",
    "    plt.show()"
   ]
  },
  {
   "cell_type": "code",
   "execution_count": null,
   "metadata": {},
   "outputs": [],
   "source": [
    "mask = (annotations.whistle == 1) & (annotations.click == 1) & (annotations.cetaceans_allfreq == 1)\n",
    "selected_annot = annotations[mask]\n",
    "selected_annot.head()"
   ]
  },
  {
   "cell_type": "code",
   "execution_count": null,
   "metadata": {},
   "outputs": [],
   "source": [
    "tensor_path =selected_annot.iloc[0].path\n",
    "tensor_data = torch.load(os.path.join(audio_dir, tensor_path))"
   ]
  },
  {
   "cell_type": "code",
   "execution_count": null,
   "metadata": {},
   "outputs": [],
   "source": [
    "plot_spectrogram(torch.from_numpy(tensor_data)[0])"
   ]
  }
 ],
 "metadata": {
  "kernelspec": {
   "display_name": "Python 3.9.13 ('audio')",
   "language": "python",
   "name": "python3"
  },
  "language_info": {
   "codemirror_mode": {
    "name": "ipython",
    "version": 3
   },
   "file_extension": ".py",
   "mimetype": "text/x-python",
   "name": "python",
   "nbconvert_exporter": "python",
   "pygments_lexer": "ipython3",
   "version": "3.9.13"
  },
  "orig_nbformat": 4,
  "vscode": {
   "interpreter": {
    "hash": "d2252593e89e7d3aa9f5262b6f0663e084f31daf75977bd0753d2b19f4a4ff6b"
   }
  }
 },
 "nbformat": 4,
 "nbformat_minor": 2
}
